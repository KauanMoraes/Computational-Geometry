{
 "cells": [
  {
   "cell_type": "code",
   "execution_count": 7,
   "id": "6365b66c",
   "metadata": {},
   "outputs": [],
   "source": [
    "import numpy as np\n",
    "import matplotlib.pyplot as plt"
   ]
  },
  {
   "cell_type": "code",
   "execution_count": 15,
   "id": "f6138dae",
   "metadata": {},
   "outputs": [],
   "source": [
    "def div_conq(lpontos):\n",
    "    lpontos=list(np.array(lpontos))\n",
    "    lpontos.sort(key=lambda x:x[0])\n",
    "    l=[[v,lpontos[2*i+1]] for i,v in enumerate(lpontos[:-1:2])]\n",
    "    if len(lpontos)%2==1:    \n",
    "        l[-1].append(lpontos[-1])\n",
    "    while len(l)>1:\n",
    "        l=[conquer(v,l[2*i+1]) for i,v in enumerate(l[:-1:2])]\n",
    "    l[0].append(l[0][0]) # para plotar o casco com a última aresta\n",
    "    return np.array(l).T\n",
    "\n",
    "def conquer(l1,l2):\n",
    "    lha=[]\n",
    "    for i,l in enumerate([l1,l2]):        \n",
    "        if np.cross(l[-1]-l[0],l[1]-l[0])<0: #se l for antihor\n",
    "            l=l[::-1] # vira horário\n",
    "        \n",
    "        lc=l.copy()\n",
    "        d={tuple(v):i for i,v in enumerate(lc)}\n",
    "        \n",
    "        lc.sort(key=lambda x:x[0])\n",
    "        a=lc[-1]\n",
    "        if i==1: a = lc[0]\n",
    "        \n",
    "        di=d[tuple(a)]\n",
    "        lh=l[di:]+l[:di]\n",
    "        l=l[::-1]\n",
    "        n=len(l)\n",
    "        di=n-1-di\n",
    "        la=l[di:]+l[:di]\n",
    "        lha.append([lh,la])\n",
    "    \n",
    "    l2=lha[1][1]\n",
    "    l1=lha[0][0]\n",
    "    i=0\n",
    "    \n",
    "    lc=l1.copy()\n",
    "    lc.sort(key=lambda x:x[0])\n",
    "    a=lc[-1]\n",
    "    \n",
    "    yind=tang(a,l2)\n",
    "    xind=tang2(l2[yind],l1)\n",
    "    x=l1[xind]\n",
    "    y=l2[yind]\n",
    "    while np.all(x!=a):\n",
    "        a=x\n",
    "        yind=tang(a,l2)\n",
    "        y=l2[yind]\n",
    "        xind=tang2(y,l1)\n",
    "        x=l1[xind]\n",
    "    low=[xind,yind] # para l2 antihorário\n",
    "    \n",
    "    # Tangente de cima\n",
    "    l1=lha[0][1]\n",
    "    l2=lha[1][0]\n",
    "    \n",
    "    lc=l1.copy()\n",
    "    lc.sort(key=lambda x:x[0])\n",
    "    a=lc[-1]\n",
    "    \n",
    "    yind=tang2(a,l2)\n",
    "    xind=tang(l2[yind],l1)\n",
    "    x=l1[xind]\n",
    "    y=l2[yind]\n",
    "    while np.all(x!=a):\n",
    "        a=x\n",
    "        yind=tang2(a,l2)\n",
    "        y=l2[yind]\n",
    "        xind=tang(y,l1)\n",
    "        x=l1[xind]\n",
    "    high=[xind,yind] # para l1antihor e l2 hor\n",
    "    \n",
    "    l1=lha[0][0] # para q l1 e l2 nao estejam invs\n",
    "    l2=lha[1][0]\n",
    "    \n",
    "    high0=len(l1)-high[0] # para l1 horário\n",
    "    low1=len(l2)-low[1] # para l2 horário\n",
    "    \n",
    "    c1=l1[low[0]:high0+1]\n",
    "    if high[0]==0: c1.append(l1[0]) # se terminar com 0,adicionar o termo\n",
    "    c2=l2[high[1]:low1+1]\n",
    "    if low[1]==0: c2.append(l2[0]) # se terminar com 0,adicionar o termo    \n",
    "    l=c1+c2\n",
    "    return l\n",
    "\n",
    "def tang(p,l):\n",
    "    iposits=[]\n",
    "    i=0\n",
    "    ponto=l[i]\n",
    "    linha=l[1]-ponto\n",
    "    linp=p-ponto\n",
    "    vet=np.cross(linp,linha)\n",
    "    while vet>0:\n",
    "        i+=1\n",
    "        ponto=l[i]\n",
    "        if i <len(l)-1: prox=l[i+1]\n",
    "        else: prox = l[0]\n",
    "        linha=prox-ponto\n",
    "        linp=p-ponto\n",
    "        vet=np.cross(linp,linha)\n",
    "    return i\n",
    "def tang2(p,l):\n",
    "    iposits=[]\n",
    "    i=0\n",
    "    ponto=l[i]\n",
    "    linha=l[1]-ponto\n",
    "    linp=p-ponto\n",
    "    vet=np.cross(linp,linha)\n",
    "    while vet<0:\n",
    "        i+=1\n",
    "        ponto=l[i]\n",
    "        if i <len(l)-1: prox=l[i+1]\n",
    "        else: prox = l[0]\n",
    "        linha=prox-ponto\n",
    "        linp=p-ponto\n",
    "        vet=np.cross(linp,linha)\n",
    "    return i"
   ]
  },
  {
   "cell_type": "code",
   "execution_count": 16,
   "id": "1de7a655",
   "metadata": {},
   "outputs": [
    {
     "data": {
      "text/plain": [
       "[<matplotlib.lines.Line2D at 0x1992ad19f70>]"
      ]
     },
     "execution_count": 16,
     "metadata": {},
     "output_type": "execute_result"
    },
    {
     "data": {
      "image/png": "[encoded data removed]",
      "text/plain": [
       "<Figure size 640x480 with 1 Axes>"
      ]
     },
     "metadata": {},
     "output_type": "display_data"
    }
   ],
   "source": [
    "lpontos=[[2,10],[3,3],[4.5,6],[2.7,7.3],[5.6,7],[6,11],\n",
    "         [7,2],[8,5],[4,10]]\n",
    "apontos=np.array(lpontos).T\n",
    "plt.scatter(apontos[0],apontos[1])\n",
    "c=div_conq(lpontos)\n",
    "plt.plot(c[0],c[1])"
   ]
  }
 ],
 "metadata": {
  "kernelspec": {
   "display_name": "Python 3 (ipykernel)",
   "language": "python",
   "name": "python3"
  },
  "language_info": {
   "codemirror_mode": {
    "name": "ipython",
    "version": 3
   },
   "file_extension": ".py",
   "mimetype": "text/x-python",
   "name": "python",
   "nbconvert_exporter": "python",
   "pygments_lexer": "ipython3",
   "version": "3.9.13"
  }
 },
 "nbformat": 4,
 "nbformat_minor": 5
}
